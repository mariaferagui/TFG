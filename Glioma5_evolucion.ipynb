{
 "cells": [
  {
   "cell_type": "markdown",
   "id": "ec3011c8",
   "metadata": {},
   "source": [
    "Bibliografía cv2\n",
    "\n",
    "https://omes-va.com/contornos/\n"
   ]
  },
  {
   "cell_type": "markdown",
   "id": "5796a477",
   "metadata": {},
   "source": [
    "Bibliografía fitting \n",
    "\n",
    "https://machinelearningmastery.com/curve-fitting-with-python/"
   ]
  },
  {
   "cell_type": "code",
   "execution_count": 1,
   "id": "672db2f6",
   "metadata": {},
   "outputs": [],
   "source": [
    "import numpy as np\n",
    "import cv2 as cv\n",
    "import matplotlib.pyplot as plt"
   ]
  },
  {
   "cell_type": "code",
   "execution_count": 2,
   "id": "198e9c1e",
   "metadata": {},
   "outputs": [],
   "source": [
    "# Glioblastoma 5\n",
    "# Generación tumor\n",
    "\n",
    "t = [0, 300, 350, 480]\n",
    "area_glio5 = [0]\n",
    "perimetro_glio5 = [0] \n",
    "\n",
    "tumor5_300_gen = cv.imread('glioma_5_gen_300_bw.jpg',0) #Muy pequeño\n",
    "ret,thresh300 = cv.threshold(tumor5_300_gen,127,255,cv.THRESH_BINARY_INV)\n",
    "contours_300,hierarchy = cv.findContours(thresh300, 1, 2)\n",
    "cnt_300 = contours_300[0]\n",
    "area_300 = cv.contourArea(cnt_300)\n",
    "perimetro_300 = cv.arcLength(cnt_300, True)\n",
    "area_glio5.append(area_300); perimetro_glio5.append(perimetro_300)\n",
    "#plt.imshow(thresh300); plt.show()\n",
    "#print('Area t=300: ', area_300)\n",
    "#print('Perimetro t=300: ', perimetro_300)\n",
    "\n",
    "tumor5_350_gen = cv.imread('glioma_5_gen_350_bw.jpg',0) #Medio\n",
    "ret,thresh350 = cv.threshold(tumor5_350_gen,127,255,cv.THRESH_BINARY_INV)\n",
    "contours_350,hierarchy = cv.findContours(thresh350, 1, 2)\n",
    "cnt_350 = contours_350[0]\n",
    "area_350 = cv.contourArea(cnt_350)\n",
    "perimetro_350 = cv.arcLength(cnt_350, True)\n",
    "area_glio5.append(area_350); perimetro_glio5.append(perimetro_350)\n",
    "#plt.imshow(thresh350); plt.show()\n",
    "#print('Area t=350: ', area_350)\n",
    "#print('Perimetro t=350: ', perimetro_350)\n",
    "\n",
    "tumor5_480_gen = cv.imread('glioma_5_pred_thres.jpg',0) #Grande\n",
    "ret,thresh480 = cv.threshold(tumor5_480_gen,127,255,cv.THRESH_BINARY_INV)\n",
    "contours_480,hierarchy = cv.findContours(thresh480, 1, 2)\n",
    "cnt_480 = contours_480[3]\n",
    "area_480 = cv.contourArea(cnt_480)\n",
    "perimetro_480 = cv.arcLength(cnt_480, True)\n",
    "area_glio5.append(area_480); perimetro_glio5.append(perimetro_480)\n",
    "#plt.imshow(thresh480); plt.show()\n",
    "#print('Area t=480: ', area_480)\n",
    "#print('Perimetro t=480: ', perimetro_480)\n",
    "\n",
    "#plt.plot(t,area_glio5); plt.title('Área vs Tiempo'); plt.grid(color='powderblue'); plt.show()\n",
    "#plt.plot(t, perimetro_glio5); plt.title('Perímetro vs Tiempo'); plt.grid(color='powderblue'); plt.show()\n"
   ]
  },
  {
   "cell_type": "code",
   "execution_count": 3,
   "id": "a3ca9d77",
   "metadata": {},
   "outputs": [
    {
     "name": "stdout",
     "output_type": "stream",
     "text": [
      "[0, 1018.0, 4669.0, 55746.0]\n",
      "[0, 285.4558436870575, 394.6274166107178, 1775.9351961612701]\n"
     ]
    }
   ],
   "source": [
    "print (area_glio5)\n",
    "print (perimetro_glio5)"
   ]
  },
  {
   "cell_type": "code",
   "execution_count": 3,
   "id": "7f15ec84",
   "metadata": {},
   "outputs": [
    {
     "name": "stdout",
     "output_type": "stream",
     "text": [
      "y = 0.01686 * x^2 + -4.45368 * x + 5.29414\n"
     ]
    },
    {
     "data": {
      "image/png": "[encoded data removed]",
      "text/plain": [
       "<Figure size 432x288 with 1 Axes>"
      ]
     },
     "metadata": {
      "needs_background": "light"
     },
     "output_type": "display_data"
    }
   ],
   "source": [
    "from numpy import arange\n",
    "from scipy.optimize import curve_fit\n",
    "from matplotlib import pyplot\n",
    " \n",
    "\n",
    "def objective(x, a, b, c):\n",
    "    return a*x **2 + b*x + c\n",
    "\n",
    "x = t\n",
    "y = perimetro_glio5\n",
    "popt, _ = curve_fit(objective, t, perimetro_glio5)\n",
    "a, b, c = popt\n",
    "print('y = %.5f * x^2 + %.5f * x + %.5f' % (a, b, c))\n",
    "pyplot.scatter(x, perimetro_glio5)\n",
    "x_line = arange(min(t), max(t), 1)\n",
    "y_line = objective(x_line, a, b, c)\n",
    "pyplot.plot(x_line, y_line, '--', color='red')\n",
    "pyplot.title('Perímetro del tumor en el tiempo'); #pyplot.grid()\n",
    "pyplot.show()"
   ]
  },
  {
   "cell_type": "code",
   "execution_count": 4,
   "id": "944ee3ee",
   "metadata": {},
   "outputs": [],
   "source": [
    "# Glioblastoma 5\n",
    "# Lisis tumor\n",
    "\n",
    "t = [0, 20, 50, 55]\n",
    "area_glio5_lisis = []\n",
    "perimetro_glio5_lisis = [] \n",
    "\n",
    "tumor5_0_lis = cv.imread('glioma_5_pred_thres.jpg',0) #Grande\n",
    "ret,thresh0 = cv.threshold(tumor5_0_lis,127,255,cv.THRESH_BINARY_INV)\n",
    "contours_0,hierarchy = cv.findContours(thresh0, 1, 2)\n",
    "cnt_0 = contours_0[3]\n",
    "area_0 = cv.contourArea(cnt_0)\n",
    "perimetro_0 = cv.arcLength(cnt_0, True)\n",
    "area_glio5_lisis.append(area_0); perimetro_glio5_lisis.append(perimetro_0)\n",
    "#plt.imshow(thresh0); plt.show()\n",
    "#print('Area t=0: ', area_0)\n",
    "#print('Perimetro t=0: ', perimetro_0)\n",
    "\n",
    "tumor5_20_lis = cv.imread('glioma_5_lis_20_bw.jpg',0)\n",
    "ret,thresh20 = cv.threshold(tumor5_20_lis,127,255,cv.THRESH_BINARY_INV)\n",
    "contours_20,hierarchy = cv.findContours(thresh20, 1, 2)\n",
    "cnt_20 = contours_20[0]\n",
    "area_20 = cv.contourArea(cnt_20)\n",
    "perimetro_20 = cv.arcLength(cnt_20, True)\n",
    "area_glio5_lisis.append(area_20); perimetro_glio5_lisis.append(perimetro_20)\n",
    "#plt.imshow(thresh20); plt.show()\n",
    "#print('Area t=20: ', area_20)\n",
    "#print('Perimetro t=20: ', perimetro_20)\n",
    "\n",
    "tumor5_50_lis = cv.imread('glioma_5_lis_50_bw.jpg',0) \n",
    "ret,thresh50 = cv.threshold(tumor5_50_lis,127,255,cv.THRESH_BINARY_INV)\n",
    "contours_50,hierarchy = cv.findContours(thresh50, 1, 2)\n",
    "cnt_50 = contours_50[0]\n",
    "area_50 = cv.contourArea(cnt_50)\n",
    "perimetro_50 = cv.arcLength(cnt_50, True)\n",
    "area_glio5_lisis.append(area_50); perimetro_glio5_lisis.append(perimetro_50)\n",
    "#plt.imshow(thresh50); plt.show()\n",
    "#print('Area t=50: ', area_50)\n",
    "#print('Perimetro t=50: ', perimetro_50)\n",
    "\n",
    "area_glio5_lisis.append(0); perimetro_glio5_lisis.append(0)\n",
    "\n",
    "#plt.plot(t,area_glio5_lisis); plt.title('Área vs Tiempo'); plt.grid(color='powderblue'); plt.show()\n",
    "#plt.plot(t, perimetro_glio5_lisis); plt.title('Perímetro vs Tiempo'); plt.grid(color='powderblue'); plt.show()"
   ]
  },
  {
   "cell_type": "code",
   "execution_count": 5,
   "id": "8c665e2d",
   "metadata": {},
   "outputs": [
    {
     "name": "stdout",
     "output_type": "stream",
     "text": [
      "[55746.0, 70.0, 16.0, 0]\n",
      "[1775.9351961612701, 31.656854152679443, 19.656854152679443, 0]\n"
     ]
    }
   ],
   "source": [
    "print (area_glio5_lisis)\n",
    "print (perimetro_glio5_lisis)"
   ]
  },
  {
   "cell_type": "markdown",
   "id": "5cb3f173",
   "metadata": {},
   "source": [
    "Bibliografía cv2 \n",
    "\n",
    "https://omes-va.com/contornos/"
   ]
  },
  {
   "cell_type": "code",
   "execution_count": 6,
   "id": "d51ad54c",
   "metadata": {},
   "outputs": [
    {
     "name": "stdout",
     "output_type": "stream",
     "text": [
      "y = 1766.13740 * e^(-0.21955 * x) + 9.79765\n"
     ]
    },
    {
     "name": "stderr",
     "output_type": "stream",
     "text": [
      "C:\\Users\\mfernandez\\AppData\\Local\\Temp\\ipykernel_10112\\3084783703.py:7: RuntimeWarning: overflow encountered in exp\n",
      "  return a * np.exp(-b * x) + c\n"
     ]
    },
    {
     "data": {
      "image/png": "[encoded data removed]",
      "text/plain": [
       "<Figure size 432x288 with 1 Axes>"
      ]
     },
     "metadata": {
      "needs_background": "light"
     },
     "output_type": "display_data"
    }
   ],
   "source": [
    "from numpy import arange\n",
    "from scipy.optimize import curve_fit\n",
    "from matplotlib import pyplot\n",
    " \n",
    "def objective(x, a, b, c):\n",
    "    #return a * x + b * x**2 + c\n",
    "    return a * np.exp(-b * x) + c\n",
    " \n",
    "x = t\n",
    "y = perimetro_glio5_lisis\n",
    "popt, _ = curve_fit(objective, t, perimetro_glio5_lisis)\n",
    "a, b, c = popt\n",
    "print('y = %.5f * e^(-%.5f * x) + %.5f' % (a, b, c))\n",
    "pyplot.scatter(x, perimetro_glio5_lisis)\n",
    "x_line = arange(min(t), max(t), 1)\n",
    "y_line = objective(x_line, a, b, c)\n",
    "pyplot.plot(x_line, y_line, '--', color='red')\n",
    "pyplot.title('Perímetro del tumor en el tiempo'); #pyplot.grid()\n",
    "pyplot.show()"
   ]
  },
  {
   "cell_type": "code",
   "execution_count": null,
   "id": "9b1ab7e7",
   "metadata": {},
   "outputs": [],
   "source": []
  }
 ],
 "metadata": {
  "kernelspec": {
   "display_name": "Python 3 (ipykernel)",
   "language": "python",
   "name": "python3"
  },
  "language_info": {
   "codemirror_mode": {
    "name": "ipython",
    "version": 3
   },
   "file_extension": ".py",
   "mimetype": "text/x-python",
   "name": "python",
   "nbconvert_exporter": "python",
   "pygments_lexer": "ipython3",
   "version": "3.9.12"
  }
 },
 "nbformat": 4,
 "nbformat_minor": 5
}
